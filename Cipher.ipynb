{
 "cells": [
  {
   "cell_type": "code",
   "execution_count": 7,
   "metadata": {},
   "outputs": [
    {
     "name": "stdout",
     "output_type": "stream",
     "text": [
      "Enter the string:jose@32\n",
      "139144148134@084083\n",
      "jose@32\n"
     ]
    }
   ],
   "source": [
    "import numpy as np\n",
    "import re\n",
    "class Cipher:\n",
    "    def __init__(self): \n",
    "        self.x = list(input(\"Enter the string:\"))\n",
    "        self.key=np.random.randint(50)\n",
    "        #self.key=5\n",
    "        y=0\n",
    "    def encrypt(self):\n",
    "        b=[]\n",
    "\n",
    "        for i in self.x:\n",
    "            if i.isalnum()== True:\n",
    "                j = str(self.key + ord(i))\n",
    "                j=j.rjust(3, '0')\n",
    "                b.append(j)\n",
    "            else:\n",
    "                b.append(i)\n",
    "        self.str1 = ''.join(str(e) for e in b)\n",
    "        print(self.str1)\n",
    "        #print(self.key)\n",
    "        \n",
    "    def decrypt(self):\n",
    "        ke = self.key\n",
    "        x1 = re.findall('(?:[0-9]{3})',self.str1)\n",
    "        for i in x1:\n",
    "            if i in self.str1:\n",
    "                self.str1 = self.str1.replace(i,chr(int(i)-self.key))\n",
    "        print(self.str1)  \n",
    "text1 = Cipher()\n",
    "text1.encrypt()\n",
    "text1.decrypt()"
   ]
  },
  {
   "cell_type": "code",
   "execution_count": null,
   "metadata": {},
   "outputs": [],
   "source": []
  }
 ],
 "metadata": {
  "kernelspec": {
   "display_name": "Python 3",
   "language": "python",
   "name": "python3"
  },
  "language_info": {
   "codemirror_mode": {
    "name": "ipython",
    "version": 3
   },
   "file_extension": ".py",
   "mimetype": "text/x-python",
   "name": "python",
   "nbconvert_exporter": "python",
   "pygments_lexer": "ipython3",
   "version": "3.7.0"
  }
 },
 "nbformat": 4,
 "nbformat_minor": 2
}
